{
 "cells": [
  {
   "cell_type": "code",
   "execution_count": null,
   "metadata": {},
   "outputs": [],
   "source": [
    "from scipy import signal\n",
    "import numpy as np\n",
    "import matplotlib.pyplot as plt\n",
    "from math import floor"
   ]
  },
  {
   "cell_type": "code",
   "execution_count": null,
   "metadata": {},
   "outputs": [],
   "source": [
    "import ipywidgets as widgets\n",
    "from IPython.display import display"
   ]
  },
  {
   "cell_type": "markdown",
   "metadata": {},
   "source": [
    "# Modulate"
   ]
  },
  {
   "cell_type": "markdown",
   "metadata": {},
   "source": [
    "## Set up constants for 2 FSK signal"
   ]
  },
  {
   "cell_type": "code",
   "execution_count": null,
   "metadata": {},
   "outputs": [],
   "source": [
    "# Output sample rate in samples per second\n",
    "fs = 200000\n",
    "\n",
    "# Output symbol rate\n",
    "fb = 20000\n",
    "\n",
    "# Set deviation for each symbol in Hz\n",
    "f0 = 80000\n",
    "f1 = -80000\n",
    "\n",
    "# AM Modulation\n",
    "am_amp = 0\n",
    "am_freq = 10000\n",
    "\n",
    "# Set the signal to noise ratio of the signal in db\n",
    "snr = 15\n",
    "\n",
    "# Number of symbols to send in each message \n",
    "symbols_per_msg = 1000"
   ]
  },
  {
   "cell_type": "markdown",
   "metadata": {},
   "source": [
    "## Generate random symbols"
   ]
  },
  {
   "cell_type": "code",
   "execution_count": null,
   "metadata": {},
   "outputs": [],
   "source": [
    "# Use a fixed random seed for a repeatable output\n",
    "np.random.seed(934839)\n",
    "symbols = np.random.randint(2, size=symbols_per_msg)\n",
    "#symbols = np.array([0,1] * 500)"
   ]
  },
  {
   "cell_type": "markdown",
   "metadata": {},
   "source": [
    "## Generate complex baseband signal"
   ]
  },
  {
   "cell_type": "code",
   "execution_count": null,
   "metadata": {},
   "outputs": [],
   "source": [
    "phase_accum = 0.0\n",
    "symbol_accum = 0.0\n",
    "symbol = 0\n",
    "\n",
    "# Since the symbol rate might not be a integer multiple of the sample rate\n",
    "# we use an accumulator to on average output symbols at the right rate\n",
    "symbol_rate_step = (fb * 2**32) / fs\n",
    "\n",
    "# Replace symbols with their step deviation (step deviation = (f * 2**32)/fs)\n",
    "deviation = symbols.copy()\n",
    "np.place(deviation, symbols == 0, int((f0 * 2**32) / fs))\n",
    "np.place(deviation, symbols == 1, int((f1 * 2**32) / fs))\n",
    "\n",
    "wave = []\n",
    "\n",
    "while True:\n",
    "    \n",
    "    # First inc the sample rate accumulator\n",
    "    symbol_accum = symbol_accum + symbol_rate_step\n",
    "    \n",
    "    # If accumulator overflows we are ready for the next symbol\n",
    "    if (symbol_accum >= 2.0**32):\n",
    "        symbol_accum = symbol_accum - 2.0**32\n",
    "        symbol += 1\n",
    "        # Check if we have reached the end of the message\n",
    "        if symbol == symbols_per_msg:\n",
    "            break\n",
    "    \n",
    "    # Output the sample\n",
    "    wave.append(np.exp(2.0j * np.pi * phase_accum/float(2**32)))\n",
    "    \n",
    "    # Increament the phase accumulator based on the current symbol\n",
    "    phase_accum = phase_accum + deviation[symbol]\n",
    "\n",
    "    if (phase_accum >= 2.0**32):\n",
    "        phase_accum = phase_accum - 2.0**32\n",
    "    elif (phase_accum < 0.0):\n",
    "        phase_accum = 2.0**32 + phase_accum"
   ]
  },
  {
   "cell_type": "markdown",
   "metadata": {},
   "source": [
    "## Add AM modulation"
   ]
  },
  {
   "cell_type": "code",
   "execution_count": null,
   "metadata": {},
   "outputs": [],
   "source": [
    "# Add AM modulation\n",
    "n = np.arange(0,len(wave))\n",
    "am_mod = (am_amp * np.cos(2.0*np.pi*am_freq*n/fs))\n",
    "wave = wave * (1+am_mod)"
   ]
  },
  {
   "cell_type": "markdown",
   "metadata": {},
   "source": [
    "## Add noise"
   ]
  },
  {
   "cell_type": "code",
   "execution_count": null,
   "metadata": {},
   "outputs": [],
   "source": [
    "def addNoise(signal, desiredSNR_db):\n",
    "    \n",
    "    length = len(signal)\n",
    "    # Generate some noise\n",
    "    noise = np.random.random_sample(length) - 0.5\n",
    "    noise2 = np.random.random_sample(length) - 0.5\n",
    "    # Apply noise to both I and Q\n",
    "    noise = noise + (1j * noise2)\n",
    "    \n",
    "    # Calculate the power in the signal and the generated noise\n",
    "    sig_power = sum(np.power(np.abs(signal),2))/length\n",
    "    noise_power = sum(np.power(np.abs(noise),2))/length\n",
    "    \n",
    "    #Scale to noise to achieve the desired SNR\n",
    "    scaled_noise = noise * np.sqrt( sig_power/noise_power * 10.0**(-desiredSNR_db / 10.0))\n",
    "    # Check the SNR ratio\n",
    "    #scaled_noise_power = sum(np.power(np.abs(scaled_noise),2))/length\n",
    "    #print(10*np.log10(sig_power/scaled_noise_power))\n",
    "    \n",
    "    return (signal + scaled_noise)\n",
    "    \n",
    "noisy_wave = addNoise(wave, snr)"
   ]
  },
  {
   "cell_type": "markdown",
   "metadata": {},
   "source": [
    "## Plot IQ data"
   ]
  },
  {
   "cell_type": "code",
   "execution_count": null,
   "metadata": {},
   "outputs": [],
   "source": [
    "iq_plot_length = 50\n",
    "plt.figure(figsize=(16,4))\n",
    "plt.plot(np.real(noisy_wave[0:iq_plot_length]), '-*')\n",
    "plt.plot(np.imag(noisy_wave[0:iq_plot_length]), '-*')\n",
    "if am_amp > 0:\n",
    "    plt.plot(am_mod[0:iq_plot_length], '-*')\n",
    "plt.show()"
   ]
  },
  {
   "cell_type": "markdown",
   "metadata": {},
   "source": [
    "## Plot FFT of signal"
   ]
  },
  {
   "cell_type": "code",
   "execution_count": null,
   "metadata": {},
   "outputs": [],
   "source": [
    "freqs = np.linspace(-fs/2,+fs/2, len(noisy_wave))\n",
    "plt.plot(freqs,20*np.log10(np.fft.fftshift(np.abs(np.fft.fft(noisy_wave)))))\n",
    "plt.show()"
   ]
  },
  {
   "cell_type": "markdown",
   "metadata": {},
   "source": [
    "# Demodulate"
   ]
  },
  {
   "cell_type": "markdown",
   "metadata": {},
   "source": [
    "## Plot Frequency Deviation of signal\n",
    "This is a basic way of demodulating FSK signals with a high SNR"
   ]
  },
  {
   "cell_type": "code",
   "execution_count": null,
   "metadata": {},
   "outputs": [],
   "source": [
    "phase_dev = noisy_wave[1:] * np.conjugate(noisy_wave[0:-1])\n",
    "freq_dev = np.arctan2(np.imag(phase_dev), np.real(phase_dev))\n",
    "amp_dev = np.abs(phase_dev)\n",
    "\n",
    "quantised_diff1 = freq_dev.copy()\n",
    "np.place(quantised_diff1, quantised_diff1 >= 0, 2)\n",
    "np.place(quantised_diff1, quantised_diff1 < 0, -2)\n",
    "\n",
    "def plotFreqDeviation(start, length):\n",
    "    plt.figure(figsize=(16,4))\n",
    "    plt.plot(freq_dev[start:start+length], '-*')\n",
    "    plt.plot(quantised_diff1[start:start+length], '-*')\n",
    "    \n",
    "    #plt.plot(am_mod[start:start+length], '-*')\n",
    "    plt.plot(amp_dev[start:start+length], '-*')\n",
    "    plt.show()\n",
    "\n",
    "freq_dev_start_point = widgets.BoundedIntText(0,min=0, max=len(freq_dev), description='Start: ')\n",
    "freq_dev_plot_length = widgets.BoundedIntText(200,min=0, max=len(freq_dev), description='Length: ')\n",
    "\n",
    "widgets.interactive(plotFreqDeviation, start=freq_dev_start_point, length=freq_dev_plot_length)"
   ]
  },
  {
   "cell_type": "markdown",
   "metadata": {},
   "source": [
    "## Generate Matched Filters for each symbol"
   ]
  },
  {
   "cell_type": "code",
   "execution_count": null,
   "metadata": {},
   "outputs": [],
   "source": [
    "def getMatchedFilter(symbol_freq, symbol_rate, sample_rate):\n",
    "    matched_filter = []\n",
    "    phase_accum = 0.0    \n",
    "    step = (symbol_freq * 2**32) / sample_rate    \n",
    "    matched_filter_length = int(floor(sample_rate/symbol_rate))\n",
    "    \n",
    "    for _ in range(0,matched_filter_length):    \n",
    "   \n",
    "        # Output the sample\n",
    "        matched_filter.append(np.exp(2.0j * np.pi * phase_accum/float(2**32)))\n",
    "\n",
    "        # Increament the phase accumulator\n",
    "        phase_accum = phase_accum + step\n",
    "\n",
    "        if (phase_accum >= 2.0**32):\n",
    "            phase_accum = phase_accum - 2.0**32\n",
    "        elif (phase_accum < 0.0):\n",
    "            phase_accum = 2.0**32 + phase_accum\n",
    "            \n",
    "            \n",
    "    return matched_filter\n",
    "\n",
    "filter0 = getMatchedFilter(f0,fb,fs)\n",
    "filter1 = getMatchedFilter(f1,fb,fs)"
   ]
  },
  {
   "cell_type": "code",
   "execution_count": null,
   "metadata": {},
   "outputs": [],
   "source": [
    "plt.plot(np.real(filter0))\n",
    "plt.plot(np.imag(filter0))\n",
    "plt.plot(np.real(filter1))\n",
    "plt.plot(np.imag(filter1))\n",
    "plt.show()"
   ]
  },
  {
   "cell_type": "markdown",
   "metadata": {},
   "source": [
    "## Apply matched filters to signal"
   ]
  },
  {
   "cell_type": "code",
   "execution_count": null,
   "metadata": {},
   "outputs": [],
   "source": [
    "filter_symbol0 = signal.lfilter(filter0,1,noisy_wave)\n",
    "filter_symbol1 = signal.lfilter(filter1,1,noisy_wave)\n",
    "\n",
    "# Calculate the difference between the two filters\n",
    "diff = np.abs(filter_symbol0) - np.abs(filter_symbol1)\n",
    "\n",
    "# Quantise the signal to a 0 or 1 (shown at +4 or -4 to look better on the graph)\n",
    "quantised_diff = diff.copy()\n",
    "np.place(quantised_diff, quantised_diff >= 0, 4)\n",
    "np.place(quantised_diff, quantised_diff < 0, -4)"
   ]
  },
  {
   "cell_type": "markdown",
   "metadata": {},
   "source": [
    "## Plot output of matched filter detector"
   ]
  },
  {
   "cell_type": "code",
   "execution_count": null,
   "metadata": {
    "scrolled": true
   },
   "outputs": [],
   "source": [
    "plt.figure(figsize=(16,4))\n",
    "plt.plot(diff[0:200], '-*')\n",
    "plt.plot(quantised_diff[0:200], '-*')\n",
    "plt.show()\n",
    "print(symbols[0:15])"
   ]
  },
  {
   "cell_type": "code",
   "execution_count": null,
   "metadata": {},
   "outputs": [],
   "source": []
  }
 ],
 "metadata": {
  "kernelspec": {
   "display_name": "Python 3",
   "language": "python",
   "name": "python3"
  },
  "language_info": {
   "codemirror_mode": {
    "name": "ipython",
    "version": 3
   },
   "file_extension": ".py",
   "mimetype": "text/x-python",
   "name": "python",
   "nbconvert_exporter": "python",
   "pygments_lexer": "ipython3",
   "version": "3.6.4"
  }
 },
 "nbformat": 4,
 "nbformat_minor": 2
}
